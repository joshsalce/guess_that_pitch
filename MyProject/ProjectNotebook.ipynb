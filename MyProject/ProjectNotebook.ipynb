{
 "cells": [
  {
   "cell_type": "markdown",
   "metadata": {},
   "source": [
    "# Project Description"
   ]
  },
  {
   "cell_type": "markdown",
   "metadata": {},
   "source": [
    "This project is a guessing game based on an event that occurs during a baseball game. Put simply, during a game a pitcher and catcher will use hand signs to signal what pitch to throw. This changes from a single sign to a sequence of signs when a runner is on-base and can see what signs the catcher is using. The runner can then look at the signs and guess what code is being used to generate the sequence that is used. A good example of this, and a large inspiration of this project, comes from this [video](https://youtu.be/UBthUIEtA4Y) which breaks this very situation down."
   ]
  },
  {
   "cell_type": "markdown",
   "metadata": {},
   "source": [
    "This project simulates the time during a game in which the catcher uses a sequence of signs. You are playing a runner on 2nd base. Your objective, using only the sequence of signs and the pitch that is thrown, is to try and decipher exactly what code is used to generate that sequence. You must decipher five randomly chosen codes out of thirteen different possible codes. These thirteen codes group into three different categories:"
   ]
  },
  {
   "cell_type": "markdown",
   "metadata": {},
   "source": [
    "#### 1. \"Outs +\"\n",
    "\n",
    "Every scenario in the game will give you the number of outs there are. There can only be 0,1, or 2 outs. This number of outs will be added to either 1, 2, or 3. The sum of these two numbers will be the *nth* element in the sequence, and whatever number is at that *nth* point will be the pitch that is thrown. \n",
    "\n",
    "For example, if the sequence was [1,2,3,4,5], there is 1 out, and the code is \"Outs + 1,\" the second sign, or 2 a.k.a a Cutter, will be the pitch that is thrown. \n",
    "\n",
    "#### 2. \"Chase the\"\n",
    "\n",
    "These codes will generate a sequence that will result in the sign after a certain number being the pitch that is thrown.\n",
    "\n",
    "For example, with a sequence [1,2,3,4,5], and the code being \"Chase the 2,\" the sign after 2, a.k.a. 3 for Curveball, will be the pitch that is thrown.\n",
    "\n",
    "#### 3. \"2nd Sign After\"\n",
    "\n",
    "These class of signs were inspired by [this moment](https://youtu.be/-BagwHv7sVo) from the 2020 season.\n",
    "\n",
    "These codes have the same idea as the \"Chase the\" codes, but will return the pitch two signs after a certain number.\n",
    "\n",
    "For example, with a sequence [1,2,3,4,5], and the code being \"2nd Sign After the 2,\" the second sign after 2, a.k.a. 4 for Slider, will be thrown.\n"
   ]
  },
  {
   "cell_type": "markdown",
   "metadata": {},
   "source": [
    "You are also given the pitch that is thrown by the pitcher. This pitch will correspond to a number, and if that number is put down, the pitch that corresponds to that number will be thrown. For this game, we are simulating a pitcher that knows five different pitches:\n",
    "- A Fastball that corresponds with the number 1\n",
    "- A Cutter that corresponds with the number 2\n",
    "- A Curveball that corresponds with the number 3\n",
    "- A Slider that corresponds with the number 4\n",
    "- A Changeup that corresponds with the number 5"
   ]
  },
  {
   "cell_type": "markdown",
   "metadata": {},
   "source": [
    "Final Note: This is not supposed to be a particularly easy game to win, since it's not supposed to be easy when it actually happens during a baseball game. I have noticed while playing myself that the sequence and pitch shown with each scenario can be one of at most three possible codes. So with every code that you think can be the right answer, there may be at most two other codes that can be correct as well."
   ]
  },
  {
   "cell_type": "markdown",
   "metadata": {},
   "source": [
    "## Project Code"
   ]
  },
  {
   "cell_type": "markdown",
   "metadata": {},
   "source": [
    "Uncomment the line of code that starts the game, and enjoy!"
   ]
  },
  {
   "cell_type": "code",
   "execution_count": null,
   "metadata": {},
   "outputs": [],
   "source": [
    "from my_module import functions as func\n",
    "\n",
    "#func.game()"
   ]
  },
  {
   "cell_type": "markdown",
   "metadata": {},
   "source": [
    "\n",
    "## Extra Credit (*optional*)\n",
    "\n",
    "My Python background goes back to just about a year ago, when I decided to teach myself Python through Udemy after learning some web development. I covered the same topics and built a few things through it, but I never really got it off the ground and truly applied it until I came to this class where it all clicked. I think I went above and beyond in this project by delving slightly into some Advanced Python. Not only did I utilize the random module through the choice and randint methods, but I also used list comprehensions for the first time. Even though it was covered breifly in the final lecture, I ended up stumbling across them spontaneously, and using them served me very well in completing this project."
   ]
  }
 ],
 "metadata": {
  "kernelspec": {
   "display_name": "Python 3 (ipykernel)",
   "language": "python",
   "name": "python3"
  },
  "language_info": {
   "codemirror_mode": {
    "name": "ipython",
    "version": 3
   },
   "file_extension": ".py",
   "mimetype": "text/x-python",
   "name": "python",
   "nbconvert_exporter": "python",
   "pygments_lexer": "ipython3",
   "version": "3.9.5"
  }
 },
 "nbformat": 4,
 "nbformat_minor": 2
}
