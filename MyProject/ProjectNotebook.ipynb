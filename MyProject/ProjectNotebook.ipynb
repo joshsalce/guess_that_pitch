{
  "cells": [
    {
      "cell_type": "markdown",
      "metadata": {
        "id": "FEN2FMXztdh6"
      },
      "source": [
        "# Project Description"
      ]
    },
    {
      "cell_type": "markdown",
      "metadata": {
        "id": "0vmBlQRatdiC"
      },
      "source": [
        "This project is a guessing game based on a specific situation that occurs during a baseball game. Put simply, a pitcher and catcher will use hand signs to signal what pitch to throw (before 2022). This changes from a single sign to a sequence of signs when a runner is on-base. When on-base, a runner can see what signs the catcher is using and potentially figure out what pitch will be thrown, which would then be relayed to the batter. A good example of this, and a large inspiration of this project, comes from this [video](https://youtu.be/UBthUIEtA4Y) which examines this very situation."
      ]
    },
    {
      "cell_type": "markdown",
      "metadata": {
        "id": "5NS1G3bxtdiD"
      },
      "source": [
        "This project simulates a sequence of signs given by the catcher. You are playing as a runner on 2nd base. Your objective is to try and decipher exactly what code is used to generate that sequence given only the sequence of signs and the pitch that is thrown. There are thirteen different possible codes, and you must decipher five randomly chosen codes. \n",
        "\n",
        "These thirteen codes group into three different categories:"
      ]
    },
    {
      "cell_type": "markdown",
      "metadata": {
        "id": "qLRTkpHDtdiD"
      },
      "source": [
        "#### 1. \"Outs +\"\n",
        "\n",
        "Every scenario in the game will give you the number of outs there are. There can only be 0,1, or 2 outs. This number will be added to either 1, 2, or 3. The sum of these two numbers will be the *nth* element in the sequence, and whatever number is at that *nth* point will be the pitch that is thrown. \n",
        "\n",
        "For example, if there is 1 out, the sequence was [1,2,3,4,5], and the code is \"Outs + 1,\" the second sign 2 will be the pitch that is thrown. \n",
        "\n",
        "#### 2. \"Chase the ___\"\n",
        "\n",
        "These codes will generate a sequence that will result in the sign after a certain number being the pitch that is thrown.\n",
        "\n",
        "For example, with a sequence [1,2,3,4,5], and the code being \"Chase the 2,\" the sign after 2, 3, will be the pitch that is thrown.\n",
        "\n",
        "#### 3. \"2nd Sign After\"\n",
        "\n",
        "These class of signs were inspired by [this moment](https://youtu.be/-BagwHv7sVo) from 2020.\n",
        "\n",
        "These codes have the same idea as the \"Chase th __\" codes, but will return the pitch two signs after a certain number.\n",
        "\n",
        "For example, with a sequence [1,2,3,4,5], and the code being \"2nd Sign After the 2,\" the second sign after 2, or 4, will be thrown.\n"
      ]
    },
    {
      "cell_type": "markdown",
      "metadata": {
        "id": "14RKvknntdiF"
      },
      "source": [
        "You are also given the pitch that is thrown by the pitcher. This pitch will correspond to a number, and if that number is put down, the pitch that corresponds to that number will be thrown. For this game, we are simulating a pitcher that knows five different pitches:\n",
        "- A Fastball that corresponds with the number 1\n",
        "- A Cutter that corresponds with the number 2\n",
        "- A Curveball that corresponds with the number 3\n",
        "- A Slider that corresponds with the number 4\n",
        "- A Changeup that corresponds with the number 5"
      ]
    },
    {
      "cell_type": "markdown",
      "metadata": {
        "id": "-0KUa3qjtdiH"
      },
      "source": [
        "Final Note: This is not supposed to be a particularly easy game to win, since it's not supposed to be easy when it actually happens during a baseball game. I have noticed while playing myself that the sequence and pitch shown with each scenario can be one of at most three possible codes. So with every code that you think can be the right answer, there may be at most two other codes that can be correct as well."
      ]
    },
    {
      "cell_type": "markdown",
      "metadata": {
        "id": "YiEZHD9WtdiI"
      },
      "source": [
        "## Project Code"
      ]
    },
    {
      "cell_type": "markdown",
      "metadata": {
        "id": "RpPuvBwdtdiI"
      },
      "source": [
        "Uncomment the line of code that starts the game, and enjoy!"
      ]
    },
    {
      "cell_type": "code",
      "execution_count": null,
      "metadata": {
        "id": "FuYdnHWctdiJ"
      },
      "outputs": [],
      "source": [
        "from my_module import functions as func\n",
        "\n",
        "func.game()"
      ]
    },
    {
      "cell_type": "markdown",
      "metadata": {
        "id": "50TPlReUtdiK"
      },
      "source": [
        "\n",
        "## Extra Credit (*optional*)\n",
        "\n",
        "My Python background goes back to just about a year ago, when I decided to teach myself Python through Udemy after learning some web development. I covered the same topics and built a few things through it, but I never really got it off the ground and truly applied it until I came to this class where it all clicked. I think I went above and beyond in this project by delving slightly into some Advanced Python. Not only did I utilize the random module through the choice and randint methods, but I also used list comprehensions for the first time. Even though it was covered breifly in the final lecture, I ended up stumbling across them spontaneously, and using them served me very well in completing this project."
      ]
    }
  ],
  "metadata": {
    "kernelspec": {
      "display_name": "Python 3 (ipykernel)",
      "language": "python",
      "name": "python3"
    },
    "language_info": {
      "codemirror_mode": {
        "name": "ipython",
        "version": 3
      },
      "file_extension": ".py",
      "mimetype": "text/x-python",
      "name": "python",
      "nbconvert_exporter": "python",
      "pygments_lexer": "ipython3",
      "version": "3.9.5"
    },
    "colab": {
      "provenance": []
    }
  },
  "nbformat": 4,
  "nbformat_minor": 0
}